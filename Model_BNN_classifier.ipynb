{
 "cells": [
  {
   "cell_type": "code",
   "execution_count": 2,
   "id": "d9774469-da89-43a3-b88d-3b330848624f",
   "metadata": {},
   "outputs": [],
   "source": [
    "import pandas as pd\n",
    "import numpy as np\n",
    "from matplotlib import pyplot as plt\n",
    "from sklearn.model_selection import train_test_split\n",
    "from sklearn import metrics"
   ]
  },
  {
   "cell_type": "markdown",
   "id": "db3d9038-3d22-477f-a6a5-b45ba0c5f349",
   "metadata": {},
   "source": [
    "# Load the preprocessed data"
   ]
  },
  {
   "cell_type": "code",
   "execution_count": 3,
   "id": "9ed8646e-b3c9-4980-83f9-8dd35c4b3c55",
   "metadata": {},
   "outputs": [],
   "source": [
    "# Load DataFrame from the pickle file\n",
    "features = pd.read_pickle('features.pkl')\n",
    "target = pd.read_pickle('target_classification.pkl')"
   ]
  },
  {
   "cell_type": "markdown",
   "id": "936605e1-9fb6-4d3e-a0f5-97a65c5eb401",
   "metadata": {},
   "source": [
    "# Split the data to train and test sets"
   ]
  },
  {
   "cell_type": "code",
   "execution_count": 4,
   "id": "485ba9bd-5323-46ed-ab86-68d8c87261f6",
   "metadata": {},
   "outputs": [],
   "source": [
    "X_train, X_test, y_train, y_test = train_test_split(features, target, test_size = 0.2, random_state = 123, stratify = target)"
   ]
  },
  {
   "cell_type": "code",
   "execution_count": 5,
   "id": "e7e7f8d5-72ce-4eb7-a694-0352e05ad882",
   "metadata": {},
   "outputs": [
    {
     "name": "stdout",
     "output_type": "stream",
     "text": [
      "(1913, 12)\n",
      "(479, 12)\n"
     ]
    }
   ],
   "source": [
    "print(X_train.shape)\n",
    "print(X_test.shape)"
   ]
  },
  {
   "cell_type": "markdown",
   "id": "7d731992-be7e-4236-80ae-c32a81cd273a",
   "metadata": {},
   "source": [
    "# BNN"
   ]
  },
  {
   "cell_type": "code",
   "execution_count": 5,
   "id": "f537f9cb-63ce-4874-bdd2-199f5356f629",
   "metadata": {},
   "outputs": [],
   "source": [
    "import torch\n",
    "import torch.nn as nn\n",
    "import torch.optim as optim\n",
    "import torch.nn.functional as F\n",
    "import torchbnn as bnn\n",
    "from torch.utils.data import DataLoader, TensorDataset\n",
    "from torch.optim.lr_scheduler import ExponentialLR\n",
    "from sklearn.utils.class_weight import compute_class_weight\n",
    "from sklearn.metrics import classification_report\n",
    "from tqdm import tqdm"
   ]
  },
  {
   "cell_type": "code",
   "execution_count": 6,
   "id": "7257e2e8-a2a4-4780-bacb-27dff7ac5f04",
   "metadata": {},
   "outputs": [],
   "source": [
    "# Tensors for the BNN\n",
    "X_train_tens = torch.tensor(X_train.values)\n",
    "y_train_tens = torch.tensor(y_train.values)\n",
    "X_test_tens = torch.tensor(X_test.values)\n",
    "y_test_tens = torch.tensor(y_test.values)"
   ]
  },
  {
   "cell_type": "code",
   "execution_count": 7,
   "id": "b70b276e-ad37-418d-a4c1-eacb83dca640",
   "metadata": {},
   "outputs": [
    {
     "name": "stdout",
     "output_type": "stream",
     "text": [
      "Number of training samples: 1913\n",
      "Number of test samples: 479\n",
      "Number of classes: 5\n",
      "Number of inputs: 12\n"
     ]
    }
   ],
   "source": [
    "num_of_train_data = X_train_tens.shape[0]\n",
    "print(f\"Number of training samples: {num_of_train_data}\")\n",
    "\n",
    "num_of_test_data = X_test_tens.shape[0]\n",
    "print(f\"Number of test samples: {num_of_test_data}\")\n",
    "\n",
    "num_of_classes = np.unique(y_train).size\n",
    "print(f\"Number of classes: {num_of_classes}\")\n",
    "\n",
    "num_of_inputs = X_train_tens.shape[1]\n",
    "print(f\"Number of inputs: {num_of_inputs}\")"
   ]
  },
  {
   "cell_type": "code",
   "execution_count": 8,
   "id": "b8019707-80f4-467f-8f1f-f525c1bed39e",
   "metadata": {},
   "outputs": [],
   "source": [
    "# Training data to a right form for the model\n",
    "train_dataset = TensorDataset(X_train_tens, y_train_tens)\n",
    "train_loader = DataLoader(train_dataset, batch_size=32, shuffle=True, drop_last=False)"
   ]
  },
  {
   "cell_type": "code",
   "execution_count": 9,
   "id": "8d65f175-3a65-466a-8a44-5cad4b8d05be",
   "metadata": {},
   "outputs": [],
   "source": [
    "# Model\n",
    "model = nn.Sequential(\n",
    "    bnn.BayesLinear(prior_mu=0, prior_sigma=0.3, in_features=num_of_inputs, out_features=128),\n",
    "    nn.ReLU(),\n",
    "    nn.Linear(in_features=128, out_features=64, bias=True),\n",
    "    nn.ReLU(),\n",
    "    nn.Linear(in_features=64, out_features=num_of_classes, bias=True)\n",
    ")"
   ]
  },
  {
   "cell_type": "markdown",
   "id": "f8868a5f-efc5-4824-a4ec-e089ac0c156e",
   "metadata": {},
   "source": [
    "## Training"
   ]
  },
  {
   "cell_type": "code",
   "execution_count": 10,
   "id": "7660cda8-a524-44fb-98ef-95167a445fdc",
   "metadata": {},
   "outputs": [
    {
     "name": "stderr",
     "output_type": "stream",
     "text": [
      "  0%|▍                                                                                 | 1/200 [00:00<01:24,  2.35it/s]"
     ]
    },
    {
     "name": "stdout",
     "output_type": "stream",
     "text": [
      "Epoch 1 - Average CE: 1.589, Average KL: 0.014, LR: 0.00792\n"
     ]
    },
    {
     "name": "stderr",
     "output_type": "stream",
     "text": [
      "  6%|████▍                                                                            | 11/200 [00:03<00:51,  3.68it/s]"
     ]
    },
    {
     "name": "stdout",
     "output_type": "stream",
     "text": [
      "Epoch 11 - Average CE: 1.134, Average KL: 0.051, LR: 0.00716\n"
     ]
    },
    {
     "name": "stderr",
     "output_type": "stream",
     "text": [
      " 11%|████████▉                                                                        | 22/200 [00:05<00:39,  4.53it/s]"
     ]
    },
    {
     "name": "stdout",
     "output_type": "stream",
     "text": [
      "Epoch 21 - Average CE: 1.023, Average KL: 0.062, LR: 0.00648\n"
     ]
    },
    {
     "name": "stderr",
     "output_type": "stream",
     "text": [
      " 16%|████████████▉                                                                    | 32/200 [00:07<00:33,  4.95it/s]"
     ]
    },
    {
     "name": "stdout",
     "output_type": "stream",
     "text": [
      "Epoch 31 - Average CE: 1.006, Average KL: 0.066, LR: 0.00586\n"
     ]
    },
    {
     "name": "stderr",
     "output_type": "stream",
     "text": [
      " 21%|█████████████████                                                                | 42/200 [00:09<00:27,  5.76it/s]"
     ]
    },
    {
     "name": "stdout",
     "output_type": "stream",
     "text": [
      "Epoch 41 - Average CE: 0.951, Average KL: 0.069, LR: 0.00530\n"
     ]
    },
    {
     "name": "stderr",
     "output_type": "stream",
     "text": [
      " 26%|█████████████████████                                                            | 52/200 [00:11<00:27,  5.36it/s]"
     ]
    },
    {
     "name": "stdout",
     "output_type": "stream",
     "text": [
      "Epoch 51 - Average CE: 0.928, Average KL: 0.070, LR: 0.00479\n"
     ]
    },
    {
     "name": "stderr",
     "output_type": "stream",
     "text": [
      " 31%|█████████████████████████                                                        | 62/200 [00:13<00:24,  5.66it/s]"
     ]
    },
    {
     "name": "stdout",
     "output_type": "stream",
     "text": [
      "Epoch 61 - Average CE: 0.900, Average KL: 0.072, LR: 0.00433\n"
     ]
    },
    {
     "name": "stderr",
     "output_type": "stream",
     "text": [
      " 36%|█████████████████████████████▏                                                   | 72/200 [00:14<00:21,  5.93it/s]"
     ]
    },
    {
     "name": "stdout",
     "output_type": "stream",
     "text": [
      "Epoch 71 - Average CE: 0.881, Average KL: 0.073, LR: 0.00392\n"
     ]
    },
    {
     "name": "stderr",
     "output_type": "stream",
     "text": [
      " 41%|█████████████████████████████████▏                                               | 82/200 [00:16<00:20,  5.78it/s]"
     ]
    },
    {
     "name": "stdout",
     "output_type": "stream",
     "text": [
      "Epoch 81 - Average CE: 0.860, Average KL: 0.075, LR: 0.00354\n"
     ]
    },
    {
     "name": "stderr",
     "output_type": "stream",
     "text": [
      " 46%|█████████████████████████████████████▎                                           | 92/200 [00:18<00:18,  5.80it/s]"
     ]
    },
    {
     "name": "stdout",
     "output_type": "stream",
     "text": [
      "Epoch 91 - Average CE: 0.839, Average KL: 0.076, LR: 0.00321\n"
     ]
    },
    {
     "name": "stderr",
     "output_type": "stream",
     "text": [
      " 50%|████████████████████████████████████████▍                                       | 101/200 [00:20<00:19,  5.09it/s]"
     ]
    },
    {
     "name": "stdout",
     "output_type": "stream",
     "text": [
      "Epoch 101 - Average CE: 0.807, Average KL: 0.077, LR: 0.00290\n"
     ]
    },
    {
     "name": "stderr",
     "output_type": "stream",
     "text": [
      " 56%|████████████████████████████████████████████▊                                   | 112/200 [00:22<00:18,  4.78it/s]"
     ]
    },
    {
     "name": "stdout",
     "output_type": "stream",
     "text": [
      "Epoch 111 - Average CE: 0.812, Average KL: 0.079, LR: 0.00262\n"
     ]
    },
    {
     "name": "stderr",
     "output_type": "stream",
     "text": [
      " 61%|████████████████████████████████████████████████▊                               | 122/200 [00:24<00:14,  5.51it/s]"
     ]
    },
    {
     "name": "stdout",
     "output_type": "stream",
     "text": [
      "Epoch 121 - Average CE: 0.805, Average KL: 0.079, LR: 0.00237\n"
     ]
    },
    {
     "name": "stderr",
     "output_type": "stream",
     "text": [
      " 66%|████████████████████████████████████████████████████▍                           | 131/200 [00:25<00:11,  5.83it/s]"
     ]
    },
    {
     "name": "stdout",
     "output_type": "stream",
     "text": [
      "Epoch 131 - Average CE: 0.796, Average KL: 0.081, LR: 0.00214\n"
     ]
    },
    {
     "name": "stderr",
     "output_type": "stream",
     "text": [
      " 71%|████████████████████████████████████████████████████████▊                       | 142/200 [00:27<00:10,  5.59it/s]"
     ]
    },
    {
     "name": "stdout",
     "output_type": "stream",
     "text": [
      "Epoch 141 - Average CE: 0.760, Average KL: 0.082, LR: 0.00194\n"
     ]
    },
    {
     "name": "stderr",
     "output_type": "stream",
     "text": [
      " 76%|████████████████████████████████████████████████████████████▊                   | 152/200 [00:29<00:08,  5.67it/s]"
     ]
    },
    {
     "name": "stdout",
     "output_type": "stream",
     "text": [
      "Epoch 151 - Average CE: 0.753, Average KL: 0.083, LR: 0.00175\n"
     ]
    },
    {
     "name": "stderr",
     "output_type": "stream",
     "text": [
      " 81%|████████████████████████████████████████████████████████████████▊               | 162/200 [00:31<00:06,  5.90it/s]"
     ]
    },
    {
     "name": "stdout",
     "output_type": "stream",
     "text": [
      "Epoch 161 - Average CE: 0.745, Average KL: 0.084, LR: 0.00159\n"
     ]
    },
    {
     "name": "stderr",
     "output_type": "stream",
     "text": [
      " 86%|████████████████████████████████████████████████████████████████████▊           | 172/200 [00:33<00:04,  5.70it/s]"
     ]
    },
    {
     "name": "stdout",
     "output_type": "stream",
     "text": [
      "Epoch 171 - Average CE: 0.740, Average KL: 0.085, LR: 0.00143\n"
     ]
    },
    {
     "name": "stderr",
     "output_type": "stream",
     "text": [
      " 91%|████████████████████████████████████████████████████████████████████████▊       | 182/200 [00:35<00:03,  5.59it/s]"
     ]
    },
    {
     "name": "stdout",
     "output_type": "stream",
     "text": [
      "Epoch 181 - Average CE: 0.712, Average KL: 0.085, LR: 0.00130\n"
     ]
    },
    {
     "name": "stderr",
     "output_type": "stream",
     "text": [
      " 96%|████████████████████████████████████████████████████████████████████████████▍   | 191/200 [00:36<00:01,  5.85it/s]"
     ]
    },
    {
     "name": "stdout",
     "output_type": "stream",
     "text": [
      "Epoch 191 - Average CE: 0.718, Average KL: 0.086, LR: 0.00117\n"
     ]
    },
    {
     "name": "stderr",
     "output_type": "stream",
     "text": [
      "100%|████████████████████████████████████████████████████████████████████████████████| 200/200 [00:38<00:00,  5.22it/s]\n"
     ]
    }
   ],
   "source": [
    "# Class weights for ce_loss-function\n",
    "class_weights = compute_class_weight(class_weight='balanced', classes=np.unique(y_train), y=y_train)\n",
    "class_weights = torch.tensor(class_weights, dtype=torch.float)\n",
    "\n",
    "# Initializations\n",
    "ce_loss = nn.CrossEntropyLoss(weight=class_weights)\n",
    "kl_loss = bnn.BKLLoss(reduction='mean', last_layer_only=False)\n",
    "kl_weight = 0.1\n",
    "optimizer = optim.Adam(model.parameters(), lr=0.008) \n",
    "scheduler = ExponentialLR(optimizer, gamma=0.99)\n",
    "\n",
    "# Number of training epochs\n",
    "num_epochs = 200\n",
    "# Model to the train mode\n",
    "model.train()  \n",
    "\n",
    "ce_losses = []\n",
    "kl_losses = []\n",
    "epochs = []\n",
    "\n",
    "# Training loop\n",
    "for epoch in tqdm(range(num_epochs)):\n",
    "    ce_total = 0.0\n",
    "    kl_total = 0.0\n",
    "    total_batches = 0\n",
    "    \n",
    "    for inputs, labels in train_loader: # One batch at a time\n",
    "        inputs = inputs.to(torch.float32)\n",
    "        labels = labels.to(torch.long)\n",
    "        \n",
    "        # Loss\n",
    "        pre = model(inputs)\n",
    "        ce = ce_loss(pre, labels)\n",
    "        kl = kl_loss(model)\n",
    "        cost = ce + kl_weight * kl\n",
    "        \n",
    "        optimizer.zero_grad()\n",
    "        cost.backward()\n",
    "        optimizer.step()\n",
    "        \n",
    "        ce_total += ce.item()\n",
    "        kl_total += kl.item()\n",
    "        total_batches += 1\n",
    "    \n",
    "    # Mean loss per batch\n",
    "    avg_ce = ce_total / total_batches\n",
    "    avg_kl = kl_total / total_batches\n",
    "\n",
    "    ce_losses.append(avg_ce)\n",
    "    kl_losses.append(kl_weight * avg_kl)\n",
    "    epochs.append(epoch + 1) \n",
    "\n",
    "    # # Use this if you want to stop the decreasing of the learning rate after some spesific value\n",
    "    # if scheduler.get_last_lr()[0] > 0.000005:\n",
    "    scheduler.step()\n",
    "\n",
    "    if (epoch) % 10 == 0:\n",
    "        print('Epoch %d - Average CE: %.3f, Average KL: %.3f, LR: %.5f' % (epoch+1, avg_ce, kl_weight*avg_kl, scheduler.get_last_lr()[0]))"
   ]
  },
  {
   "cell_type": "code",
   "execution_count": 11,
   "id": "1297d929-c380-4f3a-a77c-187849efe891",
   "metadata": {},
   "outputs": [
    {
     "data": {
      "image/png": "[encoded data removed]",
      "text/plain": [
       "<Figure size 700x400 with 1 Axes>"
      ]
     },
     "metadata": {},
     "output_type": "display_data"
    }
   ],
   "source": [
    "# Figure of the loss\n",
    "\n",
    "plt.figure(figsize=(7,4))\n",
    "\n",
    "# Total loss (CE + KL)\n",
    "total_losses = [ce + kl_weight * kl for ce, kl in zip(ce_losses, kl_losses)]\n",
    "plt.plot(epochs, total_losses, linestyle='-', color='red')\n",
    "\n",
    "plt.xlim(1, epochs[-1])\n",
    "plt.xlabel('Epoch')\n",
    "plt.ylabel('Loss')\n",
    "plt.title('Total losses of the training')\n",
    "plt.grid(True)\n",
    "plt.tight_layout()"
   ]
  },
  {
   "cell_type": "code",
   "execution_count": 12,
   "id": "cc1f4019-cf8b-478d-899d-889d2f7c9e56",
   "metadata": {},
   "outputs": [],
   "source": [
    "# Computes the mean and standard deviation of predictions across samples\n",
    "def compute_statistics(predictions, num_samples):\n",
    "\n",
    "    mean = np.mean(predictions, axis=1)\n",
    "    std_dev = np.std(predictions, axis=1)\n",
    "    return mean, std_dev\n",
    "\n",
    "# The inference function passes the data through the given model num_samples times to obtain distributions and make class predictions based on them\n",
    "def inference(model, test_loader, num_samples=50):\n",
    "\n",
    "    # initializations\n",
    "    model.eval()\n",
    "    all_means = []\n",
    "    all_std_devs = []\n",
    "    all_predicted_classes = []\n",
    "\n",
    "    with torch.no_grad():\n",
    "        for batch in test_loader: # Iterates through each batch of test data\n",
    "            inputs = batch[0].to(torch.float32)\n",
    "            batch_predictions = []\n",
    "\n",
    "            for _ in range(num_samples): # The same batch is passed to the model num_samples times\n",
    "                outputs = model(inputs) # model predictions\n",
    "                probabilities = F.softmax(outputs, dim=1) # predictions as probabilities\n",
    "                batch_predictions.append(probabilities.numpy()) # save the result\n",
    "\n",
    "            # Combine predictions\n",
    "            batch_predictions = np.stack(batch_predictions, axis=1)\n",
    "\n",
    "            # Calculate means and standard deviations of predictions\n",
    "            means, std_devs = compute_statistics(batch_predictions, num_samples)\n",
    "            all_means.append(means)\n",
    "            all_std_devs.append(std_devs)\n",
    "            \n",
    "            # Predicted class is the class with the highest mean\n",
    "            predicted_classes = np.argmax(means, axis=1)\n",
    "            all_predicted_classes.append(predicted_classes)\n",
    "\n",
    "    # Combine results from all batches\n",
    "    all_means = np.concatenate(all_means, axis=0)\n",
    "    all_std_devs = np.concatenate(all_std_devs, axis=0)\n",
    "    all_predicted_classes = np.concatenate(all_predicted_classes, axis=0)\n",
    "\n",
    "    return all_means, all_std_devs, all_predicted_classes\n",
    "\n",
    "# Format test data for inference function\n",
    "test_dataset = TensorDataset(X_test_tens)\n",
    "test_loader = DataLoader(test_dataset, batch_size=32, shuffle=False)\n",
    "\n",
    "# Run inference for employees and entrepreneurs to obtain predicted classes, means, and standard deviations\n",
    "all_means, all_std_devs, all_predicted_classes = inference(model, test_loader, num_samples=40)\n"
   ]
  },
  {
   "cell_type": "markdown",
   "id": "932e219c-e456-4dcf-95bb-ec2d0afbe26e",
   "metadata": {},
   "source": [
    "# Results"
   ]
  },
  {
   "cell_type": "code",
   "execution_count": 13,
   "id": "04cd7d25-49a4-4788-8c07-67128eaa9a11",
   "metadata": {},
   "outputs": [
    {
     "name": "stdout",
     "output_type": "stream",
     "text": [
      "Accuracy: 72.03%\n"
     ]
    }
   ],
   "source": [
    "true_labels = y_test.to_numpy().astype(int)\n",
    "predicted_labels = all_predicted_classes\n",
    "\n",
    "# Calculate accuracy: the mean of correct predictions\n",
    "accuracy = np.mean(predicted_labels == true_labels)\n",
    "\n",
    "# Print the accuracy as a percentage\n",
    "print(f\"Accuracy: {accuracy:.2%}\")"
   ]
  },
  {
   "cell_type": "code",
   "execution_count": 14,
   "id": "e0ceef5c-41ac-4381-81a1-bff01b23f275",
   "metadata": {},
   "outputs": [
    {
     "name": "stdout",
     "output_type": "stream",
     "text": [
      "              precision    recall  f1-score   support\n",
      "\n",
      "           0       0.29      0.33      0.31        21\n",
      "           1       0.69      0.54      0.60        54\n",
      "           2       0.69      0.56      0.62        78\n",
      "           3       0.49      0.69      0.57        83\n",
      "           4       0.89      0.86      0.87       243\n",
      "\n",
      "    accuracy                           0.72       479\n",
      "   macro avg       0.61      0.60      0.60       479\n",
      "weighted avg       0.74      0.72      0.73       479\n",
      "\n"
     ]
    }
   ],
   "source": [
    "# Classification report \n",
    "report = classification_report(true_labels, predicted_labels, output_dict=True, zero_division=0)\n",
    "print(classification_report(true_labels, predicted_labels, zero_division=0))"
   ]
  },
  {
   "cell_type": "code",
   "execution_count": 16,
   "id": "babfce29-b4ef-45df-b51a-debd15997166",
   "metadata": {},
   "outputs": [
    {
     "data": {
      "image/png": "[encoded data removed]",
      "text/plain": [
       "<Figure size 640x480 with 2 Axes>"
      ]
     },
     "metadata": {},
     "output_type": "display_data"
    }
   ],
   "source": [
    "# Normalized confusion matrix, so we can see how the predictions are distributed between classes\n",
    "confusion_matrix = metrics.confusion_matrix(true_labels, predicted_labels, normalize = 'true')\n",
    "cm_display = metrics.ConfusionMatrixDisplay(confusion_matrix = confusion_matrix, display_labels = [0, 1, 2, 3, 4])\n",
    "\n",
    "cm_display.plot(cmap=plt.cm.Blues)\n",
    "plt.show()"
   ]
  },
  {
   "cell_type": "markdown",
   "id": "14483c42-6655-420b-bb86-945612a95e33",
   "metadata": {},
   "source": [
    "**Class 0**: The model correctly identifies a significant portion of Class 0 samples, but there is notable confusion with Classes 1, 3, and 4.\n",
    "\n",
    "**Class 1**: The model performs reasonably well for Class 1, but confusion still occurs with Classes 0, 2, and 4, suggesting overlapping characteristics between these classes.\n",
    "\n",
    "**Class 2**: Class 2 performs well but experiences confusion with Class 3, indicating some overlap in the features of these classes.\n",
    "\n",
    "**Class 3**: Strong performance is seen for Class 3, though confusion with Class 2 remains.\n",
    "\n",
    "**Class 4**: The highest classification accuracy is observed for Class 4, but some confusion arises with Class 3."
   ]
  },
  {
   "cell_type": "markdown",
   "id": "e0001ba9-c7c5-461d-b615-743e959c7b5e",
   "metadata": {},
   "source": [
    "Overall, the confusion between classes arises because these classifications are derived from a continuous GPA scale, making them not distinctly separate categories."
   ]
  }
 ],
 "metadata": {
  "kernelspec": {
   "display_name": "my-env",
   "language": "python",
   "name": "my-env"
  },
  "language_info": {
   "codemirror_mode": {
    "name": "ipython",
    "version": 3
   },
   "file_extension": ".py",
   "mimetype": "text/x-python",
   "name": "python",
   "nbconvert_exporter": "python",
   "pygments_lexer": "ipython3",
   "version": "3.8.1"
  }
 },
 "nbformat": 4,
 "nbformat_minor": 5
}
